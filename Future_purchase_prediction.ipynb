{
  "nbformat": 4,
  "nbformat_minor": 0,
  "metadata": {
    "colab": {
      "provenance": []
    },
    "kernelspec": {
      "name": "python3",
      "display_name": "Python 3"
    },
    "language_info": {
      "name": "python"
    }
  },
  "cells": [
    {
      "cell_type": "code",
      "execution_count": 1,
      "metadata": {
        "id": "rnFSL2kbPJoy"
      },
      "outputs": [],
      "source": [
        "## import libraries\n",
        "import numpy as np\n",
        "import pandas as pd\n",
        "import matplotlib.pyplot as plt"
      ]
    },
    {
      "cell_type": "code",
      "source": [
        "## read data\n",
        "data = pd.read_csv(\"combined_transactions.csv\")"
      ],
      "metadata": {
        "id": "GMm304-MPRuh"
      },
      "execution_count": 2,
      "outputs": []
    },
    {
      "cell_type": "code",
      "source": [
        "## filter and keep only purchase\n",
        "df = data[data['transaction_type'] == 'PurchaseActivity'].reset_index(drop=True)"
      ],
      "metadata": {
        "id": "sDcgz5qYcP2y"
      },
      "execution_count": 3,
      "outputs": []
    },
    {
      "cell_type": "code",
      "source": [
        "## get merchant type code is 5732\n",
        "target_df = df[df['merchant_type_code'] == 5732].reset_index(drop=True)\n",
        "target_df['datetime'] = pd.to_datetime(target_df['datetime']).dt.date"
      ],
      "metadata": {
        "id": "uLGJRJ7cmntc"
      },
      "execution_count": 4,
      "outputs": []
    },
    {
      "cell_type": "code",
      "source": [
        "## group by date and get the average of amount cents\n",
        "final_df = target_df.groupby('datetime')['amount_cents'].mean().reset_index()\n",
        "final_df['datetime'] = pd.to_datetime(final_df['datetime'])\n",
        "final_df = final_df.set_index('datetime')"
      ],
      "metadata": {
        "id": "MFezoVH9rMA8"
      },
      "execution_count": 5,
      "outputs": []
    },
    {
      "cell_type": "code",
      "source": [
        "## shift the amount cents by 10 days and set it as target value we want to predict\n",
        "final_df = final_df.resample('D', convention='end').asfreq().fillna(method='ffill')\n",
        "final_df['target'] = final_df['amount_cents'].shift(-10).fillna(method='ffill')\n"
      ],
      "metadata": {
        "id": "ApTTVqrHsNtb"
      },
      "execution_count": 8,
      "outputs": []
    },
    {
      "cell_type": "code",
      "source": [
        "from sklearn.linear_model import Ridge\n",
        "\n",
        "## use ridge model to predict\n",
        "clf = Ridge(alpha=10)\n",
        "clf.fit(final_df['amount_cents'].values.reshape(-1, 1), final_df['target'].values)\n",
        "final_df['prediction'] = clf.predict(final_df['amount_cents'].values.reshape(-1, 1))\n",
        "## convert cents into dollars\n",
        "final_df[['target','prediction']] = final_df[['target','prediction']]/100"
      ],
      "metadata": {
        "id": "wQfLlvIhyW_-"
      },
      "execution_count": 10,
      "outputs": []
    }
  ]
}